{
 "cells": [
  {
   "cell_type": "code",
   "execution_count": 7,
   "id": "cc6de248",
   "metadata": {},
   "outputs": [],
   "source": [
    "import pandas as pd \n",
    "import numpy as np\n",
    "import matplotlib.pyplot as plt\n",
    "import seaborn as sns\n",
    "import os"
   ]
  },
  {
   "cell_type": "code",
   "execution_count": 8,
   "id": "c8086f0f",
   "metadata": {},
   "outputs": [
    {
     "data": {
      "text/plain": [
       "['CSV.txt',\n",
       " 'NSE_data_all_stocks_2007.csv',\n",
       " 'NSE_data_all_stocks_2010.csv',\n",
       " 'NSE_data_all_stocks_2011.csv',\n",
       " 'NSE_data_all_stocks_2008.csv',\n",
       " 'NSE_data_all_stocks_2009.csv',\n",
       " '.ipynb_checkpoints',\n",
       " 'NSE_data_all_stocks_2012.csv']"
      ]
     },
     "execution_count": 8,
     "metadata": {},
     "output_type": "execute_result"
    }
   ],
   "source": [
    "folder_path=\"./files/\"\n",
    "all_files=os.listdir(folder_path)\n",
    "all_files"
   ]
  },
  {
   "cell_type": "code",
   "execution_count": 9,
   "id": "1187562f",
   "metadata": {},
   "outputs": [],
   "source": [
    "# filter out csv files\n",
    "csv_files=[f for f in all_files if f.endswith('.csv')]\n",
    "csv_files"
   ]
  },
  {
   "cell_type": "code",
   "execution_count": 12,
   "id": "bbe94e33",
   "metadata": {},
   "outputs": [],
   "source": [
    "df_list=[]\n",
    "\n",
    "for csv in csv_files:\n",
    "    file_path=os.path.join(folder_path,csv)\n",
    "    df=pd.read_csv(file_path)\n",
    "    df_list.append(df)\n",
    "    \n",
    "big_data=pd.concat(df_list,ignore_index=True)\n",
    "# save to external file\n",
    "big_data_df=big_data.to_csv(os.path.join(folder_path,\"combined.csv\"),index=False)"
   ]
  },
  {
   "cell_type": "code",
   "execution_count": 18,
   "id": "b1baef51",
   "metadata": {},
   "outputs": [
    {
     "name": "stderr",
     "output_type": "stream",
     "text": [
      "/tmp/ipykernel_40882/1617504232.py:2: DtypeWarning: Columns (13,14) have mixed types. Specify dtype option on import or set low_memory=False.\n",
      "  stock_df=pd.read_csv(\"./files/combined.csv\")\n"
     ]
    },
    {
     "data": {
      "text/plain": [
       "Index(['DATE', 'CODE', 'NAME', '12m Low', '12m High', 'Day Low', 'Day High',\n",
       "       'Day Price', 'Previous', 'Change', 'Change%', 'Volume', 'Adjust',\n",
       "       'Date', 'Adjusted'],\n",
       "      dtype='object')"
      ]
     },
     "execution_count": 18,
     "metadata": {},
     "output_type": "execute_result"
    }
   ],
   "source": [
    "# read combined csv\n",
    "stock_df=pd.read_csv(\"./files/combined.csv\")\n",
    "stock_df.tail(20)\n",
    "stock_df.columns"
   ]
  },
  {
   "cell_type": "code",
   "execution_count": null,
   "id": "a3a4f2b2",
   "metadata": {},
   "outputs": [],
   "source": []
  }
 ],
 "metadata": {
  "kernelspec": {
   "display_name": "Python 3 (ipykernel)",
   "language": "python",
   "name": "python3"
  },
  "language_info": {
   "codemirror_mode": {
    "name": "ipython",
    "version": 3
   },
   "file_extension": ".py",
   "mimetype": "text/x-python",
   "name": "python",
   "nbconvert_exporter": "python",
   "pygments_lexer": "ipython3",
   "version": "3.10.12"
  }
 },
 "nbformat": 4,
 "nbformat_minor": 5
}
